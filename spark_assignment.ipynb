{
 "cells": [
  {
   "cell_type": "code",
   "execution_count": 162,
   "metadata": {
    "collapsed": true,
    "ExecuteTime": {
     "start_time": "2023-05-01T18:58:02.768270Z",
     "end_time": "2023-05-01T18:58:02.774283Z"
    }
   },
   "outputs": [],
   "source": [
    "import os\n",
    "\n",
    "import requests\n",
    "import pygeohash as gh\n",
    "from pyspark.sql import SparkSession\n",
    "from pyspark.sql.functions import *\n",
    "from pyspark.sql.types import FloatType\n",
    "\n",
    "from utils import count_nulls"
   ]
  },
  {
   "cell_type": "code",
   "execution_count": 44,
   "outputs": [],
   "source": [
    "spark = SparkSession.builder.master(\"local[*]\").appName(\"SparkPractice\").getOrCreate()"
   ],
   "metadata": {
    "collapsed": false,
    "ExecuteTime": {
     "start_time": "2023-05-01T13:58:15.636111Z",
     "end_time": "2023-05-01T13:58:15.641116Z"
    }
   }
  },
  {
   "cell_type": "code",
   "execution_count": 45,
   "outputs": [
    {
     "data": {
      "text/plain": "<pyspark.sql.session.SparkSession at 0x1fd1a3ed8a0>",
      "text/html": "\n            <div>\n                <p><b>SparkSession - in-memory</b></p>\n                \n        <div>\n            <p><b>SparkContext</b></p>\n\n            <p><a href=\"http://192.168.49.68:4040\">Spark UI</a></p>\n\n            <dl>\n              <dt>Version</dt>\n                <dd><code>v3.2.4</code></dd>\n              <dt>Master</dt>\n                <dd><code>local[*]</code></dd>\n              <dt>AppName</dt>\n                <dd><code>Test</code></dd>\n            </dl>\n        </div>\n        \n            </div>\n        "
     },
     "execution_count": 45,
     "metadata": {},
     "output_type": "execute_result"
    }
   ],
   "source": [
    "spark"
   ],
   "metadata": {
    "collapsed": false,
    "ExecuteTime": {
     "start_time": "2023-05-01T13:58:16.789892Z",
     "end_time": "2023-05-01T13:58:16.794879Z"
    }
   }
  },
  {
   "cell_type": "code",
   "execution_count": 32,
   "outputs": [],
   "source": [
    "csv_dir = \"data/restaurant_csv\"\n",
    "csv_files = [os.path.join(csv_dir, f) for f in os.listdir(csv_dir) if f.endswith('.csv')]"
   ],
   "metadata": {
    "collapsed": false,
    "ExecuteTime": {
     "start_time": "2023-05-01T13:37:32.474416Z",
     "end_time": "2023-05-01T13:37:32.477383Z"
    }
   }
  },
  {
   "cell_type": "code",
   "execution_count": 33,
   "outputs": [],
   "source": [
    "df = spark.read \\\n",
    "    .format(\"csv\") \\\n",
    "    .option(\"header\", \"true\") \\\n",
    "    .load(csv_files)"
   ],
   "metadata": {
    "collapsed": false,
    "ExecuteTime": {
     "start_time": "2023-05-01T13:37:35.848707Z",
     "end_time": "2023-05-01T13:37:36.006284Z"
    }
   }
  },
  {
   "cell_type": "code",
   "execution_count": 34,
   "outputs": [
    {
     "name": "stdout",
     "output_type": "stream",
     "text": [
      "root\n",
      " |-- id: string (nullable = true)\n",
      " |-- franchise_id: string (nullable = true)\n",
      " |-- franchise_name: string (nullable = true)\n",
      " |-- restaurant_franchise_id: string (nullable = true)\n",
      " |-- country: string (nullable = true)\n",
      " |-- city: string (nullable = true)\n",
      " |-- lat: string (nullable = true)\n",
      " |-- lng: string (nullable = true)\n",
      "\n"
     ]
    }
   ],
   "source": [
    "df.printSchema()"
   ],
   "metadata": {
    "collapsed": false,
    "ExecuteTime": {
     "start_time": "2023-05-01T13:37:38.905001Z",
     "end_time": "2023-05-01T13:37:38.909019Z"
    }
   }
  },
  {
   "cell_type": "code",
   "execution_count": 35,
   "outputs": [
    {
     "name": "stdout",
     "output_type": "stream",
     "text": [
      "+------------+------------+--------------------+-----------------------+-------+--------------+------+--------+\n",
      "|          id|franchise_id|      franchise_name|restaurant_franchise_id|country|          city|   lat|     lng|\n",
      "+------------+------------+--------------------+-----------------------+-------+--------------+------+--------+\n",
      "|197568495625|          10|    The Golden Spoon|                  24784|     US|       Decatur|34.578| -87.021|\n",
      "| 17179869242|          59|         Azalea Cafe|                  10902|     FR|         Paris|48.861|   2.368|\n",
      "|214748364826|          27|     The Corner Cafe|                  92040|     US|    Rapid City|44.080|-103.250|\n",
      "|154618822706|          51|        The Pizzeria|                  41484|     AT|        Vienna|48.213|  16.413|\n",
      "|163208757312|          65|       Chef's Corner|                  96638|     GB|        London|51.495|  -0.191|\n",
      "| 68719476763|          28|    The Spicy Pickle|                  77517|     US|      Grayling|44.657| -84.744|\n",
      "|223338299419|          28|    The Spicy Pickle|                  36937|     US|        Oswego|43.452| -76.532|\n",
      "|240518168650|          75|     Greenhouse Cafe|                  93164|     NL|     Amsterdam|52.370|   4.897|\n",
      "|128849018936|          57|The Yellow Submarine|                   5679|     FR|         Paris|48.872|   2.335|\n",
      "|197568495635|          20|       The Brasserie|                  24784|     US|Jeffersonville|39.616| -83.612|\n",
      "| 68719476768|          33|   The Blue Elephant|                  77517|     IT|         Milan|45.479|   9.146|\n",
      "| 51539607582|          31|           Bistro 42|                   6934|     IT|         Milan|45.444|   9.153|\n",
      "| 94489280554|          43|      The Food House|                  95399|     FR|         Paris|48.867|   2.329|\n",
      "|206158430215|           8|     The Green Olive|                  53370|     US|   Haltom City|32.789| -97.280|\n",
      "|154618822657|           2|        Bella Cucina|                  41484|     US|   Fort Pierce|27.412| -80.391|\n",
      "| 17179869217|          34|     The Tasty Treat|                  10902|     US|     Green Bay|44.476| -88.077|\n",
      "|  8589934633|          42|     The Daily Scoop|                  12630|     FR|         Paris|48.854|   2.343|\n",
      "|240518168596|          21|      The Lazy Daisy|                  93164|     US|    Mendenhall|39.860| -75.646|\n",
      "|171798691906|          67|  Crimson and Clover|                  65939|     NL|     Amsterdam|52.361|   4.894|\n",
      "| 42949673022|          63|          Cafe Paris|                  89646|     GB|        London|51.508|  -0.107|\n",
      "+------------+------------+--------------------+-----------------------+-------+--------------+------+--------+\n",
      "only showing top 20 rows\n",
      "\n"
     ]
    }
   ],
   "source": [
    "df.show()"
   ],
   "metadata": {
    "collapsed": false,
    "ExecuteTime": {
     "start_time": "2023-05-01T13:37:42.210115Z",
     "end_time": "2023-05-01T13:37:42.271949Z"
    }
   }
  },
  {
   "cell_type": "code",
   "execution_count": 36,
   "outputs": [
    {
     "data": {
      "text/plain": "1997"
     },
     "execution_count": 36,
     "metadata": {},
     "output_type": "execute_result"
    }
   ],
   "source": [
    "df.count()"
   ],
   "metadata": {
    "collapsed": false,
    "ExecuteTime": {
     "start_time": "2023-05-01T13:37:46.008847Z",
     "end_time": "2023-05-01T13:37:46.103632Z"
    }
   }
  },
  {
   "cell_type": "code",
   "execution_count": 61,
   "outputs": [
    {
     "name": "stdout",
     "output_type": "stream",
     "text": [
      "+---+------------+--------------+-----------------------+-------+----+---+---+\n",
      "| id|franchise_id|franchise_name|restaurant_franchise_id|country|city|lat|lng|\n",
      "+---+------------+--------------+-----------------------+-------+----+---+---+\n",
      "|  0|           0|             0|                      0|      0|   0|  1|  1|\n",
      "+---+------------+--------------+-----------------------+-------+----+---+---+\n",
      "\n"
     ]
    }
   ],
   "source": [
    "#select specific null values in columns\n",
    "\n",
    "df.select([count(when(isnan(c) | col(c).isNull(), c)).alias(c) for c in df.columns]\n",
    "          ).show()"
   ],
   "metadata": {
    "collapsed": false,
    "ExecuteTime": {
     "start_time": "2023-05-01T14:31:07.716670Z",
     "end_time": "2023-05-01T14:31:07.895324Z"
    }
   }
  },
  {
   "cell_type": "code",
   "execution_count": 69,
   "outputs": [],
   "source": [
    "null_coordinates = df.filter(\"lat is null OR lng is null\")"
   ],
   "metadata": {
    "collapsed": false,
    "ExecuteTime": {
     "start_time": "2023-05-01T14:46:22.001901Z",
     "end_time": "2023-05-01T14:46:22.007884Z"
    }
   }
  },
  {
   "cell_type": "code",
   "execution_count": 71,
   "outputs": [
    {
     "name": "stdout",
     "output_type": "stream",
     "text": [
      "+-----------+------------+--------------+-----------------------+-------+------+----+----+\n",
      "|         id|franchise_id|franchise_name|restaurant_franchise_id|country|  city| lat| lng|\n",
      "+-----------+------------+--------------+-----------------------+-------+------+----+----+\n",
      "|85899345920|           1|       Savoria|                  18952|     US|Dillon|null|null|\n",
      "+-----------+------------+--------------+-----------------------+-------+------+----+----+\n",
      "\n"
     ]
    }
   ],
   "source": [
    "null_coordinates.show()"
   ],
   "metadata": {
    "collapsed": false,
    "ExecuteTime": {
     "start_time": "2023-05-01T14:46:36.834024Z",
     "end_time": "2023-05-01T14:46:36.904863Z"
    }
   }
  },
  {
   "cell_type": "code",
   "execution_count": 111,
   "outputs": [],
   "source": [
    "for row in null_coordinates.collect():\n",
    "    url = f\"https://api.opencagedata.com/geocode/v1/json?q={row['country'], row['city']}&key=693980bb02594cbdb36dbe5af4d8ee1c\"\n",
    "    request = requests.get(url)\n",
    "    response = request.json()\n",
    "    geometry = response['results'][0]['geometry']\n",
    "    lat = geometry.get('lat')\n",
    "    lng = geometry.get('lng')\n",
    "\n",
    "    df = df.na.fill({'lat': str(lat), 'lng': str(lng)})"
   ],
   "metadata": {
    "collapsed": false,
    "ExecuteTime": {
     "start_time": "2023-05-01T15:41:55.557689Z",
     "end_time": "2023-05-01T15:41:56.380729Z"
    }
   }
  },
  {
   "cell_type": "code",
   "execution_count": 112,
   "outputs": [
    {
     "name": "stdout",
     "output_type": "stream",
     "text": [
      "+---+------------+--------------+-----------------------+-------+----+---+---+\n",
      "| id|franchise_id|franchise_name|restaurant_franchise_id|country|city|lat|lng|\n",
      "+---+------------+--------------+-----------------------+-------+----+---+---+\n",
      "+---+------------+--------------+-----------------------+-------+----+---+---+\n",
      "\n"
     ]
    }
   ],
   "source": [
    "df.filter('lat is null OR lng is null').show()"
   ],
   "metadata": {
    "collapsed": false,
    "ExecuteTime": {
     "start_time": "2023-05-01T15:41:58.800458Z",
     "end_time": "2023-05-01T15:41:58.839382Z"
    }
   }
  },
  {
   "cell_type": "code",
   "execution_count": 132,
   "outputs": [],
   "source": [
    "df = df.withColumn(\"lat\", df[\"lat\"].cast(FloatType()))"
   ],
   "metadata": {
    "collapsed": false,
    "ExecuteTime": {
     "start_time": "2023-05-01T17:51:27.414213Z",
     "end_time": "2023-05-01T17:51:27.424207Z"
    }
   }
  },
  {
   "cell_type": "code",
   "execution_count": 133,
   "outputs": [],
   "source": [
    "df = df.withColumn(\"lng\", df[\"lng\"].cast(FloatType()))"
   ],
   "metadata": {
    "collapsed": false,
    "ExecuteTime": {
     "start_time": "2023-05-01T17:51:33.899447Z",
     "end_time": "2023-05-01T17:51:33.905431Z"
    }
   }
  },
  {
   "cell_type": "code",
   "execution_count": 134,
   "outputs": [],
   "source": [
    "def geohash(lat, lng):\n",
    "    return gh.encode(lat, lng, precision=4)\n",
    "\n",
    "\n",
    "geohash_udf = udf(geohash)"
   ],
   "metadata": {
    "collapsed": false,
    "ExecuteTime": {
     "start_time": "2023-05-01T17:51:37.623505Z",
     "end_time": "2023-05-01T17:51:37.627491Z"
    }
   }
  },
  {
   "cell_type": "code",
   "execution_count": 137,
   "outputs": [],
   "source": [
    "df = df.withColumn('geohash', geohash_udf(df['lat'], df['lng']))"
   ],
   "metadata": {
    "collapsed": false,
    "ExecuteTime": {
     "start_time": "2023-05-01T17:52:05.393797Z",
     "end_time": "2023-05-01T17:52:05.401773Z"
    }
   }
  },
  {
   "cell_type": "code",
   "execution_count": 138,
   "outputs": [
    {
     "name": "stdout",
     "output_type": "stream",
     "text": [
      "+------------+------------+--------------------+-----------------------+-------+--------------+------+-------+-------+\n",
      "|          id|franchise_id|      franchise_name|restaurant_franchise_id|country|          city|   lat|    lng|geohash|\n",
      "+------------+------------+--------------------+-----------------------+-------+--------------+------+-------+-------+\n",
      "|197568495625|          10|    The Golden Spoon|                  24784|     US|       Decatur|34.578|-87.021|   dn4h|\n",
      "| 17179869242|          59|         Azalea Cafe|                  10902|     FR|         Paris|48.861|  2.368|   u09t|\n",
      "|214748364826|          27|     The Corner Cafe|                  92040|     US|    Rapid City| 44.08|-103.25|   9xyd|\n",
      "|154618822706|          51|        The Pizzeria|                  41484|     AT|        Vienna|48.213| 16.413|   u2ed|\n",
      "|163208757312|          65|       Chef's Corner|                  96638|     GB|        London|51.495| -0.191|   gcpu|\n",
      "| 68719476763|          28|    The Spicy Pickle|                  77517|     US|      Grayling|44.657|-84.744|   dpgw|\n",
      "|223338299419|          28|    The Spicy Pickle|                  36937|     US|        Oswego|43.452|-76.532|   dr9x|\n",
      "|240518168650|          75|     Greenhouse Cafe|                  93164|     NL|     Amsterdam| 52.37|  4.897|   u173|\n",
      "|128849018936|          57|The Yellow Submarine|                   5679|     FR|         Paris|48.872|  2.335|   u09w|\n",
      "|197568495635|          20|       The Brasserie|                  24784|     US|Jeffersonville|39.616|-83.612|   dph9|\n",
      "| 68719476768|          33|   The Blue Elephant|                  77517|     IT|         Milan|45.479|  9.146|   u0nd|\n",
      "| 51539607582|          31|           Bistro 42|                   6934|     IT|         Milan|45.444|  9.153|   u0nd|\n",
      "| 94489280554|          43|      The Food House|                  95399|     FR|         Paris|48.867|  2.329|   u09t|\n",
      "|206158430215|           8|     The Green Olive|                  53370|     US|   Haltom City|32.789| -97.28|   9vff|\n",
      "|154618822657|           2|        Bella Cucina|                  41484|     US|   Fort Pierce|27.412|-80.391|   dhyg|\n",
      "| 17179869217|          34|     The Tasty Treat|                  10902|     US|     Green Bay|44.476|-88.077|   dpcm|\n",
      "|  8589934633|          42|     The Daily Scoop|                  12630|     FR|         Paris|48.854|  2.343|   u09t|\n",
      "|240518168596|          21|      The Lazy Daisy|                  93164|     US|    Mendenhall| 39.86|-75.646|   dr44|\n",
      "|171798691906|          67|  Crimson and Clover|                  65939|     NL|     Amsterdam|52.361|  4.894|   u173|\n",
      "| 42949673022|          63|          Cafe Paris|                  89646|     GB|        London|51.508| -0.107|   gcpv|\n",
      "+------------+------------+--------------------+-----------------------+-------+--------------+------+-------+-------+\n",
      "only showing top 20 rows\n",
      "\n"
     ]
    }
   ],
   "source": [
    "df.show()"
   ],
   "metadata": {
    "collapsed": false,
    "ExecuteTime": {
     "start_time": "2023-05-01T17:52:10.380937Z",
     "end_time": "2023-05-01T17:52:10.872748Z"
    }
   }
  },
  {
   "cell_type": "markdown",
   "source": [
    "## 2. Weather Data Exploration"
   ],
   "metadata": {
    "collapsed": false
   }
  },
  {
   "cell_type": "code",
   "execution_count": 122,
   "outputs": [],
   "source": [
    "path = 'data/weather_dataset'\n",
    "weather_df = spark.read.option(\"mergeSchema\", \"true\").option(\"recursiveFileLookup\", \"true\").parquet(path)"
   ],
   "metadata": {
    "collapsed": false,
    "ExecuteTime": {
     "start_time": "2023-05-01T17:29:14.870271Z",
     "end_time": "2023-05-01T17:29:15.420847Z"
    }
   }
  },
  {
   "cell_type": "code",
   "execution_count": 123,
   "outputs": [
    {
     "name": "stdout",
     "output_type": "stream",
     "text": [
      "root\n",
      " |-- lng: double (nullable = true)\n",
      " |-- lat: double (nullable = true)\n",
      " |-- avg_tmpr_f: double (nullable = true)\n",
      " |-- avg_tmpr_c: double (nullable = true)\n",
      " |-- wthr_date: string (nullable = true)\n",
      "\n"
     ]
    }
   ],
   "source": [
    "weather_df.printSchema()"
   ],
   "metadata": {
    "collapsed": false,
    "ExecuteTime": {
     "start_time": "2023-05-01T17:29:25.804918Z",
     "end_time": "2023-05-01T17:29:25.808908Z"
    }
   }
  },
  {
   "cell_type": "code",
   "execution_count": 124,
   "outputs": [
    {
     "name": "stdout",
     "output_type": "stream",
     "text": [
      "+--------+-------+----------+----------+----------+\n",
      "|     lng|    lat|avg_tmpr_f|avg_tmpr_c| wthr_date|\n",
      "+--------+-------+----------+----------+----------+\n",
      "| -111.09|18.6251|      80.7|      27.1|2017-08-29|\n",
      "|-111.042|18.6305|      80.7|      27.1|2017-08-29|\n",
      "|-110.995|18.6358|      80.7|      27.1|2017-08-29|\n",
      "|-110.947|18.6412|      80.9|      27.2|2017-08-29|\n",
      "|  -110.9|18.6465|      80.9|      27.2|2017-08-29|\n",
      "|-110.852|18.6518|      80.9|      27.2|2017-08-29|\n",
      "|-110.804|18.6571|      80.9|      27.2|2017-08-29|\n",
      "|-105.068|19.1765|      82.4|      28.0|2017-08-29|\n",
      "| -105.02|19.1799|      82.0|      27.8|2017-08-29|\n",
      "|-104.972|19.1832|      82.0|      27.8|2017-08-29|\n",
      "|-104.924|19.1866|      82.0|      27.8|2017-08-29|\n",
      "|-104.876|19.1899|      82.0|      27.8|2017-08-29|\n",
      "|-104.828|19.1932|      81.6|      27.6|2017-08-29|\n",
      "| -104.78|19.1964|      81.6|      27.6|2017-08-29|\n",
      "|-104.732|19.1997|      81.6|      27.6|2017-08-29|\n",
      "|-104.684| 19.203|      77.8|      25.4|2017-08-29|\n",
      "|-104.636|19.2062|      77.8|      25.4|2017-08-29|\n",
      "|-104.588|19.2094|      75.2|      24.0|2017-08-29|\n",
      "| -104.54|19.2126|      75.2|      24.0|2017-08-29|\n",
      "|-104.492|19.2158|      75.2|      24.0|2017-08-29|\n",
      "+--------+-------+----------+----------+----------+\n",
      "only showing top 20 rows\n",
      "\n"
     ]
    }
   ],
   "source": [
    "weather_df.show()"
   ],
   "metadata": {
    "collapsed": false,
    "ExecuteTime": {
     "start_time": "2023-05-01T17:29:33.354781Z",
     "end_time": "2023-05-01T17:29:33.740749Z"
    }
   }
  },
  {
   "cell_type": "code",
   "execution_count": 125,
   "outputs": [
    {
     "data": {
      "text/plain": "112394743"
     },
     "execution_count": 125,
     "metadata": {},
     "output_type": "execute_result"
    }
   ],
   "source": [
    "weather_df.count()"
   ],
   "metadata": {
    "collapsed": false,
    "ExecuteTime": {
     "start_time": "2023-05-01T17:29:41.876865Z",
     "end_time": "2023-05-01T17:29:42.207978Z"
    }
   }
  },
  {
   "cell_type": "code",
   "execution_count": 126,
   "outputs": [
    {
     "data": {
      "text/plain": "            count\nlng             0\nlat             0\navg_tmpr_f      0\navg_tmpr_c      0",
      "text/html": "<div>\n<style scoped>\n    .dataframe tbody tr th:only-of-type {\n        vertical-align: middle;\n    }\n\n    .dataframe tbody tr th {\n        vertical-align: top;\n    }\n\n    .dataframe thead th {\n        text-align: right;\n    }\n</style>\n<table border=\"1\" class=\"dataframe\">\n  <thead>\n    <tr style=\"text-align: right;\">\n      <th></th>\n      <th>count</th>\n    </tr>\n  </thead>\n  <tbody>\n    <tr>\n      <th>lng</th>\n      <td>0</td>\n    </tr>\n    <tr>\n      <th>lat</th>\n      <td>0</td>\n    </tr>\n    <tr>\n      <th>avg_tmpr_f</th>\n      <td>0</td>\n    </tr>\n    <tr>\n      <th>avg_tmpr_c</th>\n      <td>0</td>\n    </tr>\n  </tbody>\n</table>\n</div>"
     },
     "execution_count": 126,
     "metadata": {},
     "output_type": "execute_result"
    }
   ],
   "source": [
    "count_nulls(weather_df)"
   ],
   "metadata": {
    "collapsed": false,
    "ExecuteTime": {
     "start_time": "2023-05-01T17:29:53.245369Z",
     "end_time": "2023-05-01T17:29:55.027667Z"
    }
   }
  },
  {
   "cell_type": "code",
   "execution_count": 139,
   "outputs": [],
   "source": [
    "weather_df = weather_df.withColumn('geohash', geohash_udf(weather_df['lat'], weather_df['lng']))"
   ],
   "metadata": {
    "collapsed": false,
    "ExecuteTime": {
     "start_time": "2023-05-01T17:54:29.145577Z",
     "end_time": "2023-05-01T17:54:29.156547Z"
    }
   }
  },
  {
   "cell_type": "code",
   "execution_count": 140,
   "outputs": [
    {
     "name": "stdout",
     "output_type": "stream",
     "text": [
      "+--------+-------+----------+----------+----------+-------+\n",
      "|     lng|    lat|avg_tmpr_f|avg_tmpr_c| wthr_date|geohash|\n",
      "+--------+-------+----------+----------+----------+-------+\n",
      "| -111.09|18.6251|      80.7|      27.1|2017-08-29|   9e31|\n",
      "|-111.042|18.6305|      80.7|      27.1|2017-08-29|   9e31|\n",
      "|-110.995|18.6358|      80.7|      27.1|2017-08-29|   9e34|\n",
      "|-110.947|18.6412|      80.9|      27.2|2017-08-29|   9e34|\n",
      "|  -110.9|18.6465|      80.9|      27.2|2017-08-29|   9e34|\n",
      "|-110.852|18.6518|      80.9|      27.2|2017-08-29|   9e34|\n",
      "|-110.804|18.6571|      80.9|      27.2|2017-08-29|   9e34|\n",
      "|-105.068|19.1765|      82.4|      28.0|2017-08-29|   9emm|\n",
      "| -105.02|19.1799|      82.0|      27.8|2017-08-29|   9emm|\n",
      "|-104.972|19.1832|      82.0|      27.8|2017-08-29|   9emm|\n",
      "|-104.924|19.1866|      82.0|      27.8|2017-08-29|   9emm|\n",
      "|-104.876|19.1899|      82.0|      27.8|2017-08-29|   9emm|\n",
      "|-104.828|19.1932|      81.6|      27.6|2017-08-29|   9emm|\n",
      "| -104.78|19.1964|      81.6|      27.6|2017-08-29|   9emm|\n",
      "|-104.732|19.1997|      81.6|      27.6|2017-08-29|   9emt|\n",
      "|-104.684| 19.203|      77.8|      25.4|2017-08-29|   9emt|\n",
      "|-104.636|19.2062|      77.8|      25.4|2017-08-29|   9emt|\n",
      "|-104.588|19.2094|      75.2|      24.0|2017-08-29|   9emt|\n",
      "| -104.54|19.2126|      75.2|      24.0|2017-08-29|   9emt|\n",
      "|-104.492|19.2158|      75.2|      24.0|2017-08-29|   9emt|\n",
      "+--------+-------+----------+----------+----------+-------+\n",
      "only showing top 20 rows\n",
      "\n"
     ]
    }
   ],
   "source": [
    "weather_df.show()"
   ],
   "metadata": {
    "collapsed": false,
    "ExecuteTime": {
     "start_time": "2023-05-01T17:54:34.506881Z",
     "end_time": "2023-05-01T17:54:35.103427Z"
    }
   }
  },
  {
   "cell_type": "code",
   "execution_count": 141,
   "outputs": [
    {
     "name": "stdout",
     "output_type": "stream",
     "text": [
      "+-------+-----+\n",
      "|geohash|count|\n",
      "+-------+-----+\n",
      "|   gcpv|  208|\n",
      "|   u09t|  182|\n",
      "|   sp3e|  171|\n",
      "|   u09w|  169|\n",
      "|   u0nd|  122|\n",
      "|   u2ed|  116|\n",
      "|   gcpu|  102|\n",
      "|   u173|   61|\n",
      "|   u179|    8|\n",
      "|   u0n6|    8|\n",
      "|   u176|    7|\n",
      "|   u10j|    6|\n",
      "|   dqcm|    5|\n",
      "|   9mud|    5|\n",
      "|   u2e9|    5|\n",
      "|   9vrf|    4|\n",
      "|   dr5r|    4|\n",
      "|   dp0w|    4|\n",
      "|   9r0y|    4|\n",
      "|   9qh0|    4|\n",
      "+-------+-----+\n",
      "only showing top 20 rows\n",
      "\n"
     ]
    }
   ],
   "source": [
    "df.groupby(['geohash']) \\\n",
    "    .count() \\\n",
    "    .where('count > 1') \\\n",
    "    .sort('count', ascending=False) \\\n",
    "    .show()"
   ],
   "metadata": {
    "collapsed": false,
    "ExecuteTime": {
     "start_time": "2023-05-01T17:56:21.053236Z",
     "end_time": "2023-05-01T17:56:23.448143Z"
    }
   }
  },
  {
   "cell_type": "code",
   "execution_count": 147,
   "outputs": [],
   "source": [
    "#drop duplicates in weather_df based on geohash and wthr_date\n",
    "weather_df = weather_df.dropDuplicates(['geohash', 'wthr_date'])"
   ],
   "metadata": {
    "collapsed": false,
    "ExecuteTime": {
     "start_time": "2023-05-01T18:13:47.683878Z",
     "end_time": "2023-05-01T18:13:47.696844Z"
    }
   }
  },
  {
   "cell_type": "code",
   "execution_count": 148,
   "outputs": [
    {
     "data": {
      "text/plain": "31882677"
     },
     "execution_count": 148,
     "metadata": {},
     "output_type": "execute_result"
    }
   ],
   "source": [
    "weather_df.count()"
   ],
   "metadata": {
    "collapsed": false,
    "ExecuteTime": {
     "start_time": "2023-05-01T18:14:04.186099Z",
     "end_time": "2023-05-01T18:17:05.695838Z"
    }
   }
  },
  {
   "cell_type": "code",
   "execution_count": 157,
   "outputs": [],
   "source": [
    "#rename weather lat and long columns to weather_lat and weather_lng\n",
    "weather_df = weather_df.withColumnRenamed('lat', 'weather_lat')\n",
    "weather_df = weather_df.withColumnRenamed('lng', 'weather_lng')"
   ],
   "metadata": {
    "collapsed": false,
    "ExecuteTime": {
     "start_time": "2023-05-01T18:44:51.522076Z",
     "end_time": "2023-05-01T18:44:51.530013Z"
    }
   }
  },
  {
   "cell_type": "code",
   "execution_count": 158,
   "outputs": [],
   "source": [
    "#Left-join weather and restaurant data using the four-character geohash\n",
    "joined_df = df.join(weather_df, on=['geohash'], how='left')"
   ],
   "metadata": {
    "collapsed": false,
    "ExecuteTime": {
     "start_time": "2023-05-01T18:44:55.772455Z",
     "end_time": "2023-05-01T18:44:55.781431Z"
    }
   }
  },
  {
   "cell_type": "code",
   "execution_count": 159,
   "outputs": [
    {
     "name": "stdout",
     "output_type": "stream",
     "text": [
      "+-------+------------+------------+--------------+-----------------------+-------+-------+------+-------+-----------+-----------+----------+----------+----------+\n",
      "|geohash|          id|franchise_id|franchise_name|restaurant_franchise_id|country|   city|   lat|    lng|weather_lng|weather_lat|avg_tmpr_f|avg_tmpr_c| wthr_date|\n",
      "+-------+------------+------------+--------------+-----------------------+-------+-------+------+-------+-----------+-----------+----------+----------+----------+\n",
      "|   9yt8|120259084300|          13| The Firehouse|                  59829|     US|Branson|36.633|-93.272|   -93.5004|     36.606|      78.5|      25.8|2017-09-22|\n",
      "|   9yt8|120259084300|          13| The Firehouse|                  59829|     US|Branson|36.633|-93.272|   -93.5004|     36.606|      76.9|      24.9|2017-08-15|\n",
      "|   9yt8|120259084300|          13| The Firehouse|                  59829|     US|Branson|36.633|-93.272|   -93.4969|    36.5629|      62.7|      17.1|2016-10-10|\n",
      "|   9yt8|120259084300|          13| The Firehouse|                  59829|     US|Branson|36.633|-93.272|   -93.5004|     36.606|      78.5|      25.8|2017-08-19|\n",
      "|   9yt8|120259084300|          13| The Firehouse|                  59829|     US|Branson|36.633|-93.272|   -93.4969|    36.5629|      64.6|      18.1|2016-10-23|\n",
      "|   9yt8|120259084300|          13| The Firehouse|                  59829|     US|Branson|36.633|-93.272|   -93.5004|     36.606|      76.3|      24.6|2017-09-19|\n",
      "|   9yt8|120259084300|          13| The Firehouse|                  59829|     US|Branson|36.633|-93.272|   -93.5004|     36.606|      68.0|      20.0|2017-09-27|\n",
      "|   9yt8|120259084300|          13| The Firehouse|                  59829|     US|Branson|36.633|-93.272|   -93.4969|    36.5629|      67.3|      19.6|2016-10-03|\n",
      "|   9yt8|120259084300|          13| The Firehouse|                  59829|     US|Branson|36.633|-93.272|   -93.4969|    36.5629|      66.6|      19.2|2016-10-11|\n",
      "|   9yt8|120259084300|          13| The Firehouse|                  59829|     US|Branson|36.633|-93.272|   -93.4969|    36.5629|      63.5|      17.5|2016-10-26|\n",
      "|   9yt8|120259084300|          13| The Firehouse|                  59829|     US|Branson|36.633|-93.272|   -93.4969|    36.5629|      64.4|      18.0|2016-10-27|\n",
      "|   9yt8|120259084300|          13| The Firehouse|                  59829|     US|Branson|36.633|-93.272|   -93.4969|    36.5629|      69.5|      20.8|2016-10-29|\n",
      "|   9yt8|120259084300|          13| The Firehouse|                  59829|     US|Branson|36.633|-93.272|   -93.5004|     36.606|      71.2|      21.8|2017-08-04|\n",
      "|   9yt8|120259084300|          13| The Firehouse|                  59829|     US|Branson|36.633|-93.272|   -93.5004|     36.606|      72.7|      22.6|2017-08-18|\n",
      "|   9yt8|120259084300|          13| The Firehouse|                  59829|     US|Branson|36.633|-93.272|   -93.5004|     36.606|      66.9|      19.4|2017-09-07|\n",
      "|   9yt8|120259084300|          13| The Firehouse|                  59829|     US|Branson|36.633|-93.272|   -93.5004|     36.606|      72.4|      22.4|2017-09-09|\n",
      "|   9yt8|120259084300|          13| The Firehouse|                  59829|     US|Branson|36.633|-93.272|   -93.4969|    36.5629|      72.7|      22.6|2016-10-06|\n",
      "|   9yt8|120259084300|          13| The Firehouse|                  59829|     US|Branson|36.633|-93.272|   -93.4969|    36.5629|      58.6|      14.8|2016-10-22|\n",
      "|   9yt8|120259084300|          13| The Firehouse|                  59829|     US|Branson|36.633|-93.272|   -93.4969|    36.5629|      64.2|      17.9|2016-10-24|\n",
      "|   9yt8|120259084300|          13| The Firehouse|                  59829|     US|Branson|36.633|-93.272|   -93.4969|    36.5629|      66.2|      19.0|2016-10-30|\n",
      "+-------+------------+------------+--------------+-----------------------+-------+-------+------+-------+-----------+-----------+----------+----------+----------+\n",
      "only showing top 20 rows\n",
      "\n"
     ]
    }
   ],
   "source": [
    "joined_df.show()"
   ],
   "metadata": {
    "collapsed": false,
    "ExecuteTime": {
     "start_time": "2023-05-01T18:44:58.796234Z",
     "end_time": "2023-05-01T18:48:18.641071Z"
    }
   }
  },
  {
   "cell_type": "code",
   "execution_count": 160,
   "outputs": [
    {
     "data": {
      "text/plain": "172591"
     },
     "execution_count": 160,
     "metadata": {},
     "output_type": "execute_result"
    }
   ],
   "source": [
    "joined_df.count()"
   ],
   "metadata": {
    "collapsed": false,
    "ExecuteTime": {
     "start_time": "2023-05-01T18:48:43.743616Z",
     "end_time": "2023-05-01T18:53:51.265997Z"
    }
   }
  },
  {
   "cell_type": "code",
   "execution_count": 161,
   "outputs": [],
   "source": [
    "#Store the enriched data in the local file system, preserving data partitioning in the parquet format.\n",
    "joined_df.write.mode(\"overwrite\").parquet(\"enriched_data.parquet\")"
   ],
   "metadata": {
    "collapsed": false,
    "ExecuteTime": {
     "start_time": "2023-05-01T18:54:11.741624Z",
     "end_time": "2023-05-01T18:57:39.355709Z"
    }
   }
  }
 ],
 "metadata": {
  "kernelspec": {
   "display_name": "Python 3",
   "language": "python",
   "name": "python3"
  },
  "language_info": {
   "codemirror_mode": {
    "name": "ipython",
    "version": 2
   },
   "file_extension": ".py",
   "mimetype": "text/x-python",
   "name": "python",
   "nbconvert_exporter": "python",
   "pygments_lexer": "ipython2",
   "version": "2.7.6"
  }
 },
 "nbformat": 4,
 "nbformat_minor": 0
}
